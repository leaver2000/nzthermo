{
 "cells": [
  {
   "cell_type": "code",
   "execution_count": 1,
   "metadata": {},
   "outputs": [
    {
     "data": {
      "text/html": [
       "\n",
       "                <script type=\"application/javascript\" id=\"jupyter_black\">\n",
       "                (function() {\n",
       "                    if (window.IPython === undefined) {\n",
       "                        return\n",
       "                    }\n",
       "                    var msg = \"WARNING: it looks like you might have loaded \" +\n",
       "                        \"jupyter_black in a non-lab notebook with \" +\n",
       "                        \"`is_lab=True`. Please double check, and if \" +\n",
       "                        \"loading with `%load_ext` please review the README!\"\n",
       "                    console.log(msg)\n",
       "                    alert(msg)\n",
       "                })()\n",
       "                </script>\n",
       "                "
      ],
      "text/plain": [
       "<IPython.core.display.HTML object>"
      ]
     },
     "metadata": {},
     "output_type": "display_data"
    }
   ],
   "source": [
    "%load_ext autoreload\n",
    "%autoreload 2\n",
    "%load_ext jupyter_black"
   ]
  },
  {
   "cell_type": "code",
   "execution_count": 96,
   "metadata": {},
   "outputs": [
    {
     "data": {
      "text/plain": [
       "Intersection(x=array([72840.34476965, 72840.34476965, 62338.98811773,            nan,\n",
       "       75973.87549461, 75973.87549461, 61225.9336347 ,            nan,\n",
       "       94064.316261  , 94064.316261  , 92815.92020834, 92815.92020834]), y=array([221.1471183 , 221.1471183 , 233.        ,          nan,\n",
       "       230.27213523, 230.27213523, 236.25269372,          nan,\n",
       "       286.85549918, 286.85549918, 292.58698851, 292.58698851]), indices=array([0, 0, 0, 0, 1, 1, 1, 1, 2, 2, 3, 3]))"
      ]
     },
     "execution_count": 96,
     "metadata": {},
     "output_type": "execute_result"
    }
   ],
   "source": [
    "import numpy as np\n",
    "\n",
    "import nzthermo as nzt\n",
    "import nzthermo.functional as F\n",
    "from nzthermo.core import ParcelProfile\n",
    "\n",
    "pressure = np.array(\n",
    "    [1013, 1000, 975, 950, 925, 900, 875, 850, 825, 800, 775, 750, 725, 700, 650, 600, 550, 500, 450, 400, 350, 300],\n",
    "    dtype=np.float64,\n",
    ")\n",
    "pressure *= 100\n",
    "temperature = np.array(\n",
    "    [\n",
    "        [243, 242, 241, 240, 239, 237, 236, 235, 233, 232, 231, 229, 228, 226, 235, 236, 234, 231, 226, 221, 217, 211],\n",
    "        [250, 249, 248, 247, 246, 244, 243, 242, 240, 239, 238, 236, 235, 233, 240, 239, 236, 232, 227, 223, 217, 211],\n",
    "        [293, 292, 290, 288, 287, 285, 284, 282, 281, 279, 279, 280, 279, 278, 275, 270, 268, 264, 260, 254, 246, 237],\n",
    "        [300, 299, 297, 295, 293, 291, 292, 291, 291, 289, 288, 286, 285, 285, 281, 278, 273, 268, 264, 258, 251, 242],\n",
    "    ],\n",
    "    dtype=np.float64,\n",
    ")\n",
    "dewpoint = np.array(\n",
    "    [\n",
    "        [224, 224, 224, 224, 224, 223, 223, 223, 223, 222, 222, 222, 221, 221, 233, 233, 231, 228, 223, 218, 213, 207],\n",
    "        [233, 233, 232, 232, 232, 232, 231, 231, 231, 231, 230, 230, 230, 229, 237, 236, 233, 229, 223, 219, 213, 207],\n",
    "        [288, 288, 287, 286, 281, 280, 279, 277, 276, 275, 270, 258, 244, 247, 243, 254, 262, 248, 229, 232, 229, 224],\n",
    "        [294, 294, 293, 292, 291, 289, 285, 282, 280, 280, 281, 281, 278, 274, 273, 269, 259, 246, 240, 241, 226, 219],\n",
    "    ],\n",
    "    dtype=np.float64,\n",
    ")\n",
    "\n",
    "\n",
    "def el(\n",
    "    pressure: np.ndarray,\n",
    "    temperature: np.ndarray,\n",
    "    dewpoint: np.ndarray,\n",
    "    parcel_profile: ParcelProfile | None = None,\n",
    "    which=\"top\",\n",
    "):\n",
    "    if parcel_profile is None:\n",
    "        parcel_profile = nzt.parcel_profile(\n",
    "            pressure, temperature[:, 0], dewpoint[:, 0], pressure[:1].repeat(temperature.shape[0])\n",
    "        )\n",
    "    pressure = parcel_profile.pressure\n",
    "    temperature = parcel_profile.temperature\n",
    "    N, Z = temperature.shape\n",
    "    lcl_index = nx, zx = parcel_profile.lcl_index\n",
    "\n",
    "    # [ dewpoint ]\n",
    "    dewpoint = np.column_stack([dewpoint, np.full(N, np.nan)])\n",
    "    Td = np.full_like(temperature, np.nan)\n",
    "    mask = zx[:, None] >= np.arange(Z)\n",
    "    nx, zx = np.nonzero(mask)\n",
    "    Td[nx, zx - 1] = dewpoint[nx, zx]\n",
    "    nx, zx = np.nonzero(~mask)\n",
    "    Td[nx, zx] = dewpoint[nx, zx - 1]\n",
    "    Td[lcl_index] = parcel_profile.lcl_temperature\n",
    "    dewpoint = Td\n",
    "\n",
    "    return F.intersect_nz(pressure, temperature, dewpoint, log_x=True)\n",
    "\n",
    "    return dewpoint\n",
    "\n",
    "\n",
    "el(pressure, temperature, dewpoint)"
   ]
  },
  {
   "cell_type": "code",
   "execution_count": 59,
   "metadata": {},
   "outputs": [
    {
     "data": {
      "text/plain": [
       "array([[1, 2, 3, 7],\n",
       "       [4, 5, 6, 7]])"
      ]
     },
     "execution_count": 59,
     "metadata": {},
     "output_type": "execute_result"
    }
   ],
   "source": [
    "arr = np.array([[1, 2, 3], [4, 5, 6]])\n",
    "\n",
    "# Append a new value to each column\n",
    "new_value = 7\n",
    "np.column_stack((arr, [7, 7]))"
   ]
  }
 ],
 "metadata": {
  "kernelspec": {
   "display_name": ".venv",
   "language": "python",
   "name": "python3"
  },
  "language_info": {
   "codemirror_mode": {
    "name": "ipython",
    "version": 3
   },
   "file_extension": ".py",
   "mimetype": "text/x-python",
   "name": "python",
   "nbconvert_exporter": "python",
   "pygments_lexer": "ipython3",
   "version": "3.11.9"
  }
 },
 "nbformat": 4,
 "nbformat_minor": 2
}
