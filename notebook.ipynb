{
 "cells": [
  {
   "cell_type": "code",
   "execution_count": null,
   "metadata": {},
   "outputs": [],
   "source": [
    "%load_ext autoreload\n",
    "%autoreload 2\n",
    "%load_ext jupyter_black\n",
    "%load_ext Cython"
   ]
  },
  {
   "cell_type": "code",
   "execution_count": null,
   "metadata": {},
   "outputs": [],
   "source": [
    "import gcsfs\n",
    "import numpy as np\n",
    "import xarray as xr\n",
    "import matplotlib.pyplot as plt\n",
    "\n",
    "import nzthermo as nzt\n",
    "\n",
    "\n",
    "plt.rcParams[\"figure.figsize\"] = (12, 8)\n",
    "\n",
    "plt.rcParams[\"xtick.bottom\"] = False\n",
    "plt.rcParams[\"ytick.left\"] = False\n",
    "plt.rcParams[\"xtick.labelbottom\"] = False\n",
    "plt.rcParams[\"ytick.labelleft\"] = False"
   ]
  },
  {
   "cell_type": "code",
   "execution_count": null,
   "metadata": {},
   "outputs": [],
   "source": [
    "fs = gcsfs.GCSFileSystem(token=\"anon\")\n",
    "mapper = fs.get_mapper(\"gs://weatherbench2/datasets/era5/1959-2023_01_10-wb13-6h-1440x721_with_derived_variables.zarr\")\n",
    "ds = xr.open_zarr(mapper)\n",
    "ds"
   ]
  },
  {
   "cell_type": "code",
   "execution_count": null,
   "metadata": {},
   "outputs": [],
   "source": [
    "pressure = ds.coords[\"level\"].to_numpy().astype(np.float32) * 100.0  # (Pa) (13,)\n",
    "temperature = ds[\"temperature\"].isel(time=slice(0, 30)).to_numpy().astype(np.float32)  # (K) (30, 13, 721, 1440)\n",
    "specific_humidity = (\n",
    "    ds[\"specific_humidity\"].isel(time=slice(0, 30)).to_numpy().astype(np.float32)\n",
    ")  # (K) (30, 13, 721, 1440)"
   ]
  },
  {
   "cell_type": "code",
   "execution_count": null,
   "metadata": {},
   "outputs": [],
   "source": [
    "temperature[0, 0, ::12, 0]"
   ]
  },
  {
   "cell_type": "code",
   "execution_count": null,
   "metadata": {},
   "outputs": [],
   "source": [
    "# - weatherbench's levels are in reverse order\n",
    "# - non vertical dimensions are flattened like (T, Z, Y, X) -> (T*Y*X, Z) || (N, Z)\n",
    "P = pressure[::-1]\n",
    "Z = len(P)\n",
    "T = np.moveaxis(temperature[:, ::-1, :, :], 1, -1).reshape(-1, Z)  # (N, Z)\n",
    "print(f\"{temperature.shape} -> {T.shape} || (T, Z, Y, X) -> (N, Z)\")\n",
    "Td = nzt.dewpoint_from_specific_humidity(\n",
    "    P[np.newaxis, :],\n",
    "    np.moveaxis(specific_humidity[:, ::-1, :, :], 1, -1).reshape(-1, Z),\n",
    ")  # (N, Z)"
   ]
  },
  {
   "cell_type": "code",
   "execution_count": null,
   "metadata": {},
   "outputs": [],
   "source": [
    "T0 = T[:, 0]\n",
    "Td0 = Td[:, 0]\n",
    "\n",
    "lr = nzt.moist_lapse(P, T0, Td0).reshape((temperature.shape[0],) + temperature.shape[2:] + (Z,))  # (T, Y, X, Z)\n",
    "plt.imshow(lr[0, ..., 0])"
   ]
  },
  {
   "cell_type": "code",
   "execution_count": null,
   "metadata": {},
   "outputs": [],
   "source": [
    "dcape = nzt.downdraft_cape(P, T, Td)  # (T*Y*X,) || (N,)\n",
    "dcape = dcape.reshape((temperature.shape[0],) + temperature.shape[2:])  # (T, Y, X)\n",
    "plt.imshow(dcape[0, ...])"
   ]
  },
  {
   "cell_type": "code",
   "execution_count": null,
   "metadata": {},
   "outputs": [],
   "source": [
    "fig, axes = plt.subplots(dcape.shape[0] // 3, 3, figsize=(10, 20))\n",
    "axes = axes.flatten()\n",
    "for i, ax in enumerate(axes):\n",
    "    ax.imshow(dcape[i], cmap=\"viridis\")"
   ]
  },
  {
   "cell_type": "code",
   "execution_count": null,
   "metadata": {},
   "outputs": [],
   "source": [
    "P0 = P[:1].repeat(T.shape[0])\n",
    "T0 = T[:, 0]  # (T*Y*X)\n",
    "Td0 = Td[:, 0]  # (T*Y*X)\n",
    "\n",
    "\n",
    "wb = nzt.wet_bulb_temperature(P0, T0, Td0).reshape((temperature.shape[0],) + temperature.shape[2:])\n",
    "\n",
    "\n",
    "plt.imshow(wb[0, ...])"
   ]
  },
  {
   "cell_type": "code",
   "execution_count": null,
   "metadata": {},
   "outputs": [],
   "source": [
    "import nzthermo._c as c\n",
    "import numpy as np\n",
    "import metpy.calc as mpcalc\n",
    "from metpy.units import units\n",
    "import nzthermo as nzt\n",
    "\n",
    "P = np.random.uniform(101325, 10000, 1000)\n",
    "T = np.random.uniform(300, 200, 1000)\n",
    "Td = T - np.random.uniform(0, 10, 1000)\n",
    "\n",
    "lcl_p, lcl_t = nzt.lcl(P, T, Td)\n",
    "lcl_p_, lcl_t_ = (x.m for x in mpcalc.lcl(P * units.Pa, T * units.kelvin, Td * units.kelvin))  # type: ignore\n",
    "np.testing.assert_allclose(lcl_p, lcl_p_, rtol=1e-3)\n",
    "np.testing.assert_allclose(lcl_t, lcl_t_, rtol=1e-3)\n",
    "\n",
    "\n",
    "%timeit nzt.lcl(P, T, Td)\n",
    "%timeit mpcalc.lcl(P * units.Pa, T * units.kelvin, Td * units.kelvin)"
   ]
  },
  {
   "cell_type": "code",
   "execution_count": null,
   "metadata": {},
   "outputs": [],
   "source": [
    "P = np.random.uniform(101325, 10000, 1000).astype(np.float32)\n",
    "T = np.random.uniform(300, 200, 1000).astype(np.float32)\n",
    "Td = T - np.random.uniform(0, 10, 1000).astype(np.float32)\n",
    "\n",
    "np.testing.assert_allclose(\n",
    "    nzt.wet_bulb_temperature(P, T, Td),\n",
    "    mpcalc.wet_bulb_temperature(P * units.Pa, T * units.kelvin, Td * units.kelvin).m,\n",
    "    rtol=1e-3,\n",
    ")\n",
    "\n",
    "\n",
    "%timeit nzt.wet_bulb_temperature(P, T, Td)\n",
    "%timeit mpcalc.wet_bulb_temperature(P * units.Pa, T * units.kelvin, Td * units.kelvin)"
   ]
  },
  {
   "cell_type": "code",
   "execution_count": 4,
   "metadata": {},
   "outputs": [
    {
     "name": "stdout",
     "output_type": "stream",
     "text": [
      "[194.0076   122.54542  159.37715  178.9348   158.93712  172.7603\n",
      " 201.70447  122.40376  130.10341  124.225586 143.72778  198.83835\n",
      " 130.11867  158.52783  141.45505  119.412865 143.37851  124.279175\n",
      "  90.33691  121.02936 ]\n"
     ]
    }
   ],
   "source": [
    "import nzthermo._c as c\n",
    "import numpy as np\n",
    "import nzthermo as nzt\n",
    "\n",
    "pressure = np.linspace(100000, 31000, 20).astype(np.float32)#.reshape(1, -1)\n",
    "temperature = np.random.uniform(300, 220, 20).astype(np.float32)\n",
    "refrence_pressures = np.random.uniform(1001325, 100001, 20).astype(np.float32)\n",
    "N = temperature.shape[0]\n",
    "a = nzt.moist_lapse(pressure, temperature, refrence_pressures)\n",
    "b = nzt.moist_lapse(pressure[np.newaxis,:], temperature, refrence_pressures)\n",
    "print(\n",
    "    f\"\"\"\n",
    ">>> nzt.moist_lapse(pressure, temperature, refrence_pressures)\n",
    "\n",
    "\"\"\"\n",
    ")\n",
    "\n"
   ]
  }
 ],
 "metadata": {
  "kernelspec": {
   "display_name": ".venv",
   "language": "python",
   "name": "python3"
  },
  "language_info": {
   "codemirror_mode": {
    "name": "ipython",
    "version": 3
   },
   "file_extension": ".py",
   "mimetype": "text/x-python",
   "name": "python",
   "nbconvert_exporter": "python",
   "pygments_lexer": "ipython3",
   "version": "3.11.8"
  }
 },
 "nbformat": 4,
 "nbformat_minor": 2
}
